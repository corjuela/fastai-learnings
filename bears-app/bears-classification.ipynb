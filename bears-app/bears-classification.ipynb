{
 "cells": [
  {
   "cell_type": "markdown",
   "id": "986a2082-eaec-4017-b54d-0c48347771af",
   "metadata": {},
   "source": [
    "### Simple mini app to classify bears (black, grizzly, teddy bears)"
   ]
  },
  {
   "cell_type": "code",
   "execution_count": 8,
   "id": "e672d832-2814-4f39-982f-6009e83ebc39",
   "metadata": {},
   "outputs": [],
   "source": [
    "# Imports\n",
    "from fastai.vision.widgets import *\n",
    "from pathlib import Path\n",
    "from fastai import learner"
   ]
  },
  {
   "cell_type": "code",
   "execution_count": 17,
   "id": "1d23395c-efc7-4884-b219-327fa3565abb",
   "metadata": {},
   "outputs": [],
   "source": [
    "from fastai.vision.core import *"
   ]
  },
  {
   "cell_type": "markdown",
   "id": "acdbaae5-92c9-496f-b0f4-4a8fd27017a3",
   "metadata": {},
   "source": [
    "Importing the model:"
   ]
  },
  {
   "cell_type": "code",
   "execution_count": 4,
   "id": "f3e33582-a14e-4dc6-8f43-cb561e62f665",
   "metadata": {},
   "outputs": [
    {
     "data": {
      "text/plain": [
       "(#1) [Path('bears-class.pkl')]"
      ]
     },
     "execution_count": 4,
     "metadata": {},
     "output_type": "execute_result"
    }
   ],
   "source": [
    "path = Path()\n",
    "path.ls(file_exts='.pkl')"
   ]
  },
  {
   "cell_type": "code",
   "execution_count": 10,
   "id": "1cf2a80b-6f56-4e5e-8c5a-5f9944f63239",
   "metadata": {},
   "outputs": [],
   "source": [
    "learn_inf = learner.load_learner(path/'bears-class.pkl', cpu=True)"
   ]
  },
  {
   "cell_type": "code",
   "execution_count": 11,
   "id": "bb0e0f70-3b2b-4f27-a004-ccad78cb54b2",
   "metadata": {},
   "outputs": [],
   "source": [
    "btn_run = widgets.Button(description='Classify')"
   ]
  },
  {
   "cell_type": "code",
   "execution_count": 18,
   "id": "cef08c1d-cb6a-4522-9679-19165471549a",
   "metadata": {},
   "outputs": [],
   "source": [
    "def on_click_classify(change):\n",
    "    img = PILImage.create(btn_upload.data[-1])\n",
    "    out_pl.clear_output()\n",
    "    with out_pl: display(img.to_thumb(128,128))\n",
    "    pred,pred_idx,probs = learn_inf.predict(img)\n",
    "    lbl_pred.value = f'Prediction: {pred}; Probability: {probs[pred_idx]:.04f}'\n",
    "\n",
    "btn_run.on_click(on_click_classify)"
   ]
  },
  {
   "cell_type": "code",
   "execution_count": 13,
   "id": "812bd330-754d-4e9a-bbfa-10b539e6a927",
   "metadata": {},
   "outputs": [],
   "source": [
    "lbl_pred = widgets.Label()"
   ]
  },
  {
   "cell_type": "code",
   "execution_count": 14,
   "id": "e99e41a7-4a5b-4ca6-a928-bd62b6c37c6e",
   "metadata": {},
   "outputs": [],
   "source": [
    "#hide\n",
    "#Putting back btn_upload to a widget for next cell\n",
    "btn_upload = widgets.FileUpload()"
   ]
  },
  {
   "cell_type": "code",
   "execution_count": 15,
   "id": "dd568fea-294c-44dd-9317-650553ba0139",
   "metadata": {},
   "outputs": [],
   "source": [
    "out_pl = widgets.Output()\n",
    "out_pl.clear_output()"
   ]
  },
  {
   "cell_type": "code",
   "execution_count": 19,
   "id": "06867e6a-f483-4942-94d9-a2b022c16d04",
   "metadata": {},
   "outputs": [
    {
     "data": {
      "application/vnd.jupyter.widget-view+json": {
       "model_id": "8ced819cae9145fdad2726d399effd1e",
       "version_major": 2,
       "version_minor": 0
      },
      "text/plain": [
       "VBox(children=(Label(value='Select your bear!'), FileUpload(value={'bear1.jpg': {'metadata': {'name': 'bear1.j…"
      ]
     },
     "metadata": {},
     "output_type": "display_data"
    }
   ],
   "source": [
    "VBox([widgets.Label('Select your bear!'), \n",
    "      btn_upload, btn_run, out_pl, lbl_pred])"
   ]
  }
 ],
 "metadata": {
  "kernelspec": {
   "display_name": "Python 3",
   "language": "python",
   "name": "python3"
  },
  "language_info": {
   "codemirror_mode": {
    "name": "ipython",
    "version": 3
   },
   "file_extension": ".py",
   "mimetype": "text/x-python",
   "name": "python",
   "nbconvert_exporter": "python",
   "pygments_lexer": "ipython3",
   "version": "3.8.5"
  }
 },
 "nbformat": 4,
 "nbformat_minor": 5
}
